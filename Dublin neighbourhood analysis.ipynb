{
    "cells": [
        {
            "cell_type": "markdown",
            "metadata": {
                "collapsed": true
            },
            "source": "# Dublin City Area analysis\n"
        },
        {
            "cell_type": "markdown",
            "metadata": {},
            "source": "## Summary\n\n### The problem\n\nMany new businesses fail to make profit within their first three years of opening (59% in the hospitality industry, according to a study by Dr. HG Parsa).\n\nA particularly difficult area of business is the restaurant/food industry. This industry is oversaturated and highly competitive. For this reason, new business owners hoping to open a resaurant, in an already saturated market, should aim to find a location for opening their resaurant that gives them the best possible chance for success.    \n\n### Proposed solution \n\nThis project will analyse the postal code areas of Dublin, Ireland. Data about the given areas will be collected using the Foursquare API. \nGeographical information will be retrieved from the web using the python library BeautifulSoup.  \n\nThe data from Foursquare will be used to cluster the areas into groups based on the popularity of localised amenities. This data will then be used to \nmake recommendations to business owners about the location of optimal area for setting up a new business.\n\n#### Foursquare sample response\nBellow is a sample JSON response from the Foursquare API. In this project we will be using the latitude and longitude coordinates of restaurants across Dublin city in order to get an idea of how saurated the restaurant market is within each postal code. We can then use this information to look at areas of lower saturation as possinble locations for a new business.\n"
        },
        {
            "cell_type": "markdown",
            "metadata": {},
            "source": "```json\n{\n  \"meta\": {\n    \"code\": 200,\n    \"requestId\": \"5ac51d7e6a607143d811cecb\"\n  },\n  \"response\": {\n    \"venues\": [\n      {\n        \"id\": \"5642aef9498e51025cf4a7a5\",\n        \"name\": \"Mr. Purple\",\n        \"location\": {\n          \"address\": \"180 Orchard St\",\n          \"crossStreet\": \"btwn Houston & Stanton St\",\n          \"lat\": 40.72173744277209,\n          \"lng\": -73.98800687282996,\n          \"labeledLatLngs\": [\n            {\n              \"label\": \"display\",\n              \"lat\": 40.72173744277209,\n              \"lng\": -73.98800687282996\n            }\n          ],\n          \"distance\": 8,\n          \"postalCode\": \"10002\",\n          \"cc\": \"US\",\n          \"city\": \"New York\",\n          \"state\": \"NY\",\n          \"country\": \"United States\",\n          \"formattedAddress\": [\n            \"180 Orchard St (btwn Houston & Stanton St)\",\n            \"New York, NY 10002\",\n            \"United States\"\n          ]\n        },\n        \"categories\": [\n          {\n            \"id\": \"4bf58dd8d48988d1d5941735\",\n            \"name\": \"Hotel Bar\",\n            \"pluralName\": \"Hotel Bars\",\n            \"shortName\": \"Hotel Bar\",\n            \"icon\": {\n              \"prefix\": \"https://ss3.4sqi.net/img/categories_v2/travel/hotel_bar_\",\n              \"suffix\": \".png\"\n            },\n            \"primary\": true\n          }\n        ],\n        \"venuePage\": {\n          \"id\": \"150747252\"\n        }\n      }\n    ]\n  }\n}\n```"
        },
        {
            "cell_type": "code",
            "execution_count": null,
            "metadata": {},
            "outputs": [],
            "source": ""
        }
    ],
    "metadata": {
        "kernelspec": {
            "display_name": "Python 3.6",
            "language": "python",
            "name": "python3"
        },
        "language_info": {
            "codemirror_mode": {
                "name": "ipython",
                "version": 3
            },
            "file_extension": ".py",
            "mimetype": "text/x-python",
            "name": "python",
            "nbconvert_exporter": "python",
            "pygments_lexer": "ipython3",
            "version": "3.6.8"
        }
    },
    "nbformat": 4,
    "nbformat_minor": 1
}